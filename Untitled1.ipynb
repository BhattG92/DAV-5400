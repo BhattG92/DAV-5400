{
 "cells": [
  {
   "cell_type": "markdown",
   "id": "f7034d11",
   "metadata": {},
   "source": [
    "## Assignment "
   ]
  },
  {
   "cell_type": "markdown",
   "id": "317b5462",
   "metadata": {},
   "source": [
    "First we will read the csv file from the environment"
   ]
  },
  {
   "cell_type": "markdown",
   "id": "5e6ed215",
   "metadata": {},
   "source": [
    "100:400 ratios data is to be diveded into columns, by first reading these columns as python dictonary, and then doing other stuff"
   ]
  },
  {
   "cell_type": "code",
   "execution_count": 2,
   "id": "0bdae318",
   "metadata": {},
   "outputs": [],
   "source": [
    "import pandas as pd"
   ]
  },
  {
   "cell_type": "code",
   "execution_count": null,
   "id": "c9f02e8e",
   "metadata": {},
   "outputs": [],
   "source": [
    "inventory = pd.read_csv()"
   ]
  }
 ],
 "metadata": {
  "kernelspec": {
   "display_name": "Python 3 (ipykernel)",
   "language": "python",
   "name": "python3"
  },
  "language_info": {
   "codemirror_mode": {
    "name": "ipython",
    "version": 3
   },
   "file_extension": ".py",
   "mimetype": "text/x-python",
   "name": "python",
   "nbconvert_exporter": "python",
   "pygments_lexer": "ipython3",
   "version": "3.11.4"
  }
 },
 "nbformat": 4,
 "nbformat_minor": 5
}
